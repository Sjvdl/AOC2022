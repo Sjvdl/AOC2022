{
 "cells": [
  {
   "cell_type": "code",
   "execution_count": 241,
   "id": "5afd4c95",
   "metadata": {},
   "outputs": [],
   "source": [
    "stacks = open(\"day5_1.txt\").read()\n",
    "moves = open(\"day5_2.txt\").read().splitlines()"
   ]
  },
  {
   "cell_type": "code",
   "execution_count": 320,
   "id": "4e24a18d",
   "metadata": {},
   "outputs": [],
   "source": [
    "col1 = list(range(1,287,36))\n",
    "col2 = list(range(5,287,36))\n",
    "col3 = list(range(9,287,36))\n",
    "col4 = list(range(13,287,36))\n",
    "col5 = list(range(17,287,36))\n",
    "col6 = list(range(21,287,36))\n",
    "col7 = list(range(25,287,36))\n",
    "col8 = list(range(29,287,36))\n",
    "col9 = list(range(33,287,36))\n",
    "\n",
    "l1 = []\n",
    "l2 = []\n",
    "l3 = []\n",
    "l4 = []\n",
    "l5 = []\n",
    "l6 = []\n",
    "l7 = []\n",
    "l8 = []\n",
    "l9 = []\n",
    "\n",
    "collist = [col1, col2, col3, col4, col5, col6, col7, col8, col9]\n",
    "llist = [l1, l2, l3, l4, l5, l6, l7, l8, l9]\n",
    "newlist = []\n"
   ]
  },
  {
   "cell_type": "code",
   "execution_count": 321,
   "id": "47c4055b",
   "metadata": {},
   "outputs": [],
   "source": [
    "def lister(stacks, col, list_):\n",
    "    for c in col:\n",
    "        if stacks[c].isalpha():\n",
    "            list_.append(stacks[c])\n",
    "    list_ = list_[::-1]\n",
    "    return list_\n",
    "\n",
    "def mover(amount_, orilist_, deslist_):\n",
    "    for nr in range(0, amount_):\n",
    "        newlist[deslist_-1].append(newlist[orilist_-1][-1])\n",
    "        del newlist[orilist_-1][-1]\n",
    "        \n",
    "def mover9001(amount_, orilist_, deslist_):\n",
    "    cnt = list(range(1,amount_+1))\n",
    "    cnt = cnt[::-1]\n",
    "    for nr in cnt:\n",
    "        if nr >= 1:\n",
    "            newlist[deslist_-1].append(newlist[orilist_-1][-nr])\n",
    "            del newlist[orilist_-1][-nr] "
   ]
  },
  {
   "cell_type": "markdown",
   "id": "87eb43d7",
   "metadata": {},
   "source": [
    "## Run for Part1!"
   ]
  },
  {
   "cell_type": "code",
   "execution_count": 250,
   "id": "793772c3",
   "metadata": {},
   "outputs": [],
   "source": [
    "import re\n",
    "\n",
    "for col, lis in zip(collist, llist):\n",
    "    lis = lister(stacks, col, lis)\n",
    "    newlist.append(lis)\n",
    "\n",
    "pattern = r\"[0-9]+\"\n",
    "for line in moves:\n",
    "        vals = re.findall(pattern, line)\n",
    "        amount = int(vals[0])\n",
    "        ori = int(vals[1])\n",
    "        des = int(vals[2])\n",
    "        mover(amount, ori, des)"
   ]
  },
  {
   "cell_type": "code",
   "execution_count": 251,
   "id": "d07145f7",
   "metadata": {},
   "outputs": [
    {
     "name": "stdout",
     "output_type": "stream",
     "text": [
      "['R', 'T', 'G', 'W', 'Z', 'T', 'H', 'L', 'D']\n"
     ]
    }
   ],
   "source": [
    "toplist = []\n",
    "for lis in newlist:\n",
    "    toplist.append(lis[-1])\n",
    "print(toplist)"
   ]
  },
  {
   "cell_type": "markdown",
   "id": "7e5c29f6",
   "metadata": {},
   "source": [
    "## Run for Part2!"
   ]
  },
  {
   "cell_type": "code",
   "execution_count": 322,
   "id": "90c7cecf",
   "metadata": {},
   "outputs": [
    {
     "name": "stdout",
     "output_type": "stream",
     "text": [
      "[['N', 'C', 'R', 'T', 'M', 'Z', 'P'], ['D', 'N', 'T', 'S', 'B', 'Z'], ['M', 'H', 'Q', 'R', 'F', 'C', 'T', 'G'], ['G', 'R', 'Z'], ['Z', 'N', 'R', 'H'], ['F', 'H', 'S', 'W', 'P', 'Z', 'L', 'D'], ['W', 'D', 'Z', 'R', 'C', 'G', 'M'], ['S', 'J', 'F', 'L', 'H', 'W', 'Z', 'Q'], ['S', 'Q', 'P', 'W', 'N']]\n"
     ]
    }
   ],
   "source": [
    "for col, lis in zip(collist, llist):\n",
    "    lis = lister(stacks, col, lis)\n",
    "    newlist.append(lis)\n",
    "print(newlist)\n",
    "\n",
    "pattern = r\"[0-9]+\"\n",
    "for line in moves:\n",
    "        vals = re.findall(pattern, line)\n",
    "        amount = int(vals[0])\n",
    "        ori = int(vals[1])\n",
    "        des = int(vals[2])\n",
    "        mover9001(amount, ori, des)"
   ]
  },
  {
   "cell_type": "code",
   "execution_count": 323,
   "id": "0917d9d5",
   "metadata": {},
   "outputs": [
    {
     "name": "stdout",
     "output_type": "stream",
     "text": [
      "['S', 'T', 'H', 'G', 'R', 'Z', 'Z', 'F', 'R']\n"
     ]
    }
   ],
   "source": [
    "toplist = []\n",
    "for lis in newlist:\n",
    "    toplist.append(lis[-1])\n",
    "print(toplist)"
   ]
  }
 ],
 "metadata": {
  "kernelspec": {
   "display_name": "Python 3 (ipykernel)",
   "language": "python",
   "name": "python3"
  },
  "language_info": {
   "codemirror_mode": {
    "name": "ipython",
    "version": 3
   },
   "file_extension": ".py",
   "mimetype": "text/x-python",
   "name": "python",
   "nbconvert_exporter": "python",
   "pygments_lexer": "ipython3",
   "version": "3.9.7"
  }
 },
 "nbformat": 4,
 "nbformat_minor": 5
}
