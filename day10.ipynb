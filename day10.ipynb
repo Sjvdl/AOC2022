{
 "cells": [
  {
   "cell_type": "code",
   "execution_count": 2,
   "id": "534a5ca3",
   "metadata": {},
   "outputs": [],
   "source": [
    "with open(\"day10.txt\") as f:\n",
    "    data = f.read().splitlines()\n",
    "    \n",
    "with open(\"day10test.txt\") as f:\n",
    "    testdata = f.read().splitlines()"
   ]
  },
  {
   "cell_type": "code",
   "execution_count": 9,
   "id": "d3cf5c79",
   "metadata": {},
   "outputs": [],
   "source": [
    "import re\n",
    "\n",
    "def cycle_check(cycle_, strengths_, x_, rows):\n",
    "    cycle_ += 1\n",
    "    \n",
    "    if cycle_ == 20 or (cycle_ - 20) % 40== 0:\n",
    "        signal = x_ * cycle_\n",
    "        strengths_ += signal\n",
    "\n",
    "    pixels_ = x_, x_+3\n",
    "    lena = [0, 40, 80, 120, 160, 200]\n",
    "    lenb = [41 ,81, 121, 161, 201, 241]\n",
    "    \n",
    "    for a, b, i in zip(lena, lenb, range(0,6)):\n",
    "        if a < cycle_ < b:\n",
    "            if cycle_ - a in range(pixels_[0], pixels_[1]):\n",
    "                rows[i] = rows[i] + '\\033[1m' + \"#\"\n",
    "            else:\n",
    "                rows[i] = rows[i] + \" \"\n",
    "   \n",
    "    return cycle_, strengths_\n",
    "\n",
    "\n",
    "cycle = 0\n",
    "x = 1\n",
    "strengths = 0\n",
    "rows = []\n",
    "\n",
    "for nr in range(0,6):\n",
    "    empty_string = \"\"\n",
    "    rows.append(empty_string)\n",
    "\n",
    "for line in data:\n",
    "    if line == \"noop\":\n",
    "        cycle, strengths = cycle_check(cycle, strengths, x, rows)\n",
    "    \n",
    "    if line.startswith(\"addx\") == True:           \n",
    "        cycle, strengths = cycle_check(cycle, strengths, x, rows)\n",
    "        cycle, strengths = cycle_check(cycle, strengths, x, rows)\n",
    "        x += int(re.search(r\"([-]?[0-9]+)\", line).group(0))"
   ]
  },
  {
   "cell_type": "code",
   "execution_count": 10,
   "id": "7d8e7022",
   "metadata": {},
   "outputs": [
    {
     "data": {
      "text/plain": [
       "16880"
      ]
     },
     "execution_count": 10,
     "metadata": {},
     "output_type": "execute_result"
    }
   ],
   "source": [
    "strengths"
   ]
  },
  {
   "cell_type": "code",
   "execution_count": 11,
   "id": "050cc291",
   "metadata": {},
   "outputs": [
    {
     "name": "stdout",
     "output_type": "stream",
     "text": [
      "\u001b[1m#\u001b[1m#\u001b[1m#  \u001b[1m#  \u001b[1m#  \u001b[1m#\u001b[1m#  \u001b[1m#\u001b[1m#\u001b[1m#\u001b[1m#  \u001b[1m#\u001b[1m#    \u001b[1m#\u001b[1m# \u001b[1m#\u001b[1m#\u001b[1m#  \u001b[1m#\u001b[1m#\u001b[1m#  \n",
      "\u001b[1m#  \u001b[1m# \u001b[1m# \u001b[1m#  \u001b[1m#  \u001b[1m#    \u001b[1m# \u001b[1m#  \u001b[1m#    \u001b[1m# \u001b[1m#  \u001b[1m# \u001b[1m#  \u001b[1m# \n",
      "\u001b[1m#  \u001b[1m# \u001b[1m#\u001b[1m#   \u001b[1m#  \u001b[1m#   \u001b[1m#  \u001b[1m#  \u001b[1m#    \u001b[1m# \u001b[1m#\u001b[1m#\u001b[1m#  \u001b[1m#  \u001b[1m# \n",
      "\u001b[1m#\u001b[1m#\u001b[1m#  \u001b[1m# \u001b[1m#  \u001b[1m#\u001b[1m#\u001b[1m#\u001b[1m#  \u001b[1m#   \u001b[1m#\u001b[1m#\u001b[1m#\u001b[1m#    \u001b[1m# \u001b[1m#  \u001b[1m# \u001b[1m#\u001b[1m#\u001b[1m#  \n",
      "\u001b[1m# \u001b[1m#  \u001b[1m# \u001b[1m#  \u001b[1m#  \u001b[1m# \u001b[1m#    \u001b[1m#  \u001b[1m# \u001b[1m#  \u001b[1m# \u001b[1m#  \u001b[1m# \u001b[1m# \u001b[1m#  \n",
      "\u001b[1m#  \u001b[1m# \u001b[1m#  \u001b[1m# \u001b[1m#  \u001b[1m# \u001b[1m#\u001b[1m#\u001b[1m#\u001b[1m# \u001b[1m#  \u001b[1m#  \u001b[1m#\u001b[1m#  \u001b[1m#\u001b[1m#\u001b[1m#  \u001b[1m#  \u001b[1m# \n"
     ]
    }
   ],
   "source": [
    "for row in rows:\n",
    "    print(row)"
   ]
  },
  {
   "cell_type": "code",
   "execution_count": null,
   "id": "ccd3c0b9",
   "metadata": {},
   "outputs": [],
   "source": []
  }
 ],
 "metadata": {
  "kernelspec": {
   "display_name": "Python 3 (ipykernel)",
   "language": "python",
   "name": "python3"
  },
  "language_info": {
   "codemirror_mode": {
    "name": "ipython",
    "version": 3
   },
   "file_extension": ".py",
   "mimetype": "text/x-python",
   "name": "python",
   "nbconvert_exporter": "python",
   "pygments_lexer": "ipython3",
   "version": "3.9.7"
  }
 },
 "nbformat": 4,
 "nbformat_minor": 5
}
