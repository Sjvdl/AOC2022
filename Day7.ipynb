{
 "cells": [
  {
   "cell_type": "code",
   "execution_count": 300,
   "id": "3a3b3af0",
   "metadata": {},
   "outputs": [],
   "source": [
    "with open(\"day7.txt\") as f:\n",
    "    data = f.read().splitlines()\n",
    "    "
   ]
  },
  {
   "cell_type": "code",
   "execution_count": 275,
   "id": "e7a78abc",
   "metadata": {},
   "outputs": [],
   "source": [
    "import re\n",
    "pattern = r\"\\$ cd [^.]{1,2}\"\n",
    "pattern2 = r\"\\$ cd\"\n",
    "pattern3 = r\"\\$ cd \\.\\.\"\n",
    "\n",
    "def pathmaker(dataset):\n",
    "    paths = []\n",
    "    sizes = []\n",
    "    path = \"\"\n",
    "    datasize = 0\n",
    "    \n",
    "    for line in dataset:\n",
    "        if bool(re.search(pattern, line)) == True:            \n",
    "            path = path + \"+\" + line[5:]\n",
    "            paths.append(path)\n",
    "            sizes.append(datasize)\n",
    "            datasize = 0\n",
    "            \n",
    "        if bool(re.search(r\"[0-9]+\", line)) == True:\n",
    "            size = re.search(r\"([0-9]+)\", line)\n",
    "            datasize = datasize + int(size.groups()[0])\n",
    "            \n",
    "        if bool(re.search(pattern3, line)) == True:\n",
    "            lastdir = path.rfind(\"+\")\n",
    "            path = path[0:lastdir]\n",
    "        \n",
    "    if line == dataset[-1]:\n",
    "        sizes.append(datasize)\n",
    "        \n",
    "    pathdict = {}\n",
    "    for v in range(0,len(paths)):\n",
    "        pathdict[paths[v]] = sizes[v+1] \n",
    "\n",
    "    return pathdict\n",
    "            "
   ]
  },
  {
   "cell_type": "code",
   "execution_count": 299,
   "id": "59b08352",
   "metadata": {},
   "outputs": [],
   "source": [
    "kdict = list(pdict.keys())\n",
    "kdict.reverse()\n",
    "# print(kdict)\n",
    "\n",
    "pdict = pathmaker(data)\n",
    "new_sizes = pdict.copy()\n",
    "# print(pdict)\n",
    "\n",
    "for key in kdict:\n",
    "    pat = key+\"+\" \n",
    "    for k in kdict:\n",
    "#         print(k)\n",
    "        if bool(re.search(re.escape(pat), k)) == True:\n",
    "            new_sizes[key] = new_sizes[key] + pdict[k]\n",
    "#     print(\"\\n\")\n",
    "            \n",
    "# print(new_sizes)\n",
    "# print(pdict)\n",
    "            "
   ]
  },
  {
   "cell_type": "code",
   "execution_count": 279,
   "id": "7ba3eb8a",
   "metadata": {},
   "outputs": [
    {
     "name": "stdout",
     "output_type": "stream",
     "text": [
      "1749646\n"
     ]
    }
   ],
   "source": [
    "totsize = 0\n",
    "for entry in new_sizes:\n",
    "    if new_sizes[entry] < 100000:\n",
    "        totsize += new_sizes[entry]\n",
    "print(totsize)"
   ]
  },
  {
   "cell_type": "code",
   "execution_count": 286,
   "id": "87e437b6",
   "metadata": {},
   "outputs": [
    {
     "data": {
      "text/plain": [
       "1412830"
      ]
     },
     "execution_count": 286,
     "metadata": {},
     "output_type": "execute_result"
    }
   ],
   "source": [
    "size_free = 70000000 - new_sizes[\"+/\"]\n",
    "size_needed = 30000000 - size_free\n",
    "size_needed"
   ]
  },
  {
   "cell_type": "code",
   "execution_count": 298,
   "id": "75202dc0",
   "metadata": {},
   "outputs": [
    {
     "name": "stdout",
     "output_type": "stream",
     "text": [
      "+/+zjhqnlrr+ddzmvh+mghmb+btjq+rqtc+rzsrp+mbsjjzft\n",
      "1498966\n"
     ]
    }
   ],
   "source": [
    "size_list = list(new_sizes.values())\n",
    "size_list.sort()\n",
    "for val in size_list:\n",
    "    if val > size_needed:\n",
    "        smallest_val = val\n",
    "        break\n",
    "\n",
    "for key in new_sizes:\n",
    "    if new_sizes[key] == smallest_val:\n",
    "        print(key)\n",
    "        print(smallest_val)"
   ]
  },
  {
   "cell_type": "code",
   "execution_count": 212,
   "id": "98b651da",
   "metadata": {},
   "outputs": [],
   "source": [
    "# def grouper(dataset):\n",
    "#     dirl = []\n",
    "#     for line in dataset:\n",
    "#         if bool(re.search(pattern, line)) == True:\n",
    "#             dirl.append(line)\n",
    "#     return dirl\n",
    "\n",
    "# def datasizer(ls_dirs, dataset):\n",
    "#     cmd_list = []\n",
    "#     for line in dataset:\n",
    "#         if bool(re.search(pattern2, line)) == True:\n",
    "#             cmd_list.append(line)\n",
    "#     print(cmd_list)        \n",
    "#     for entrynr in range(0,len(cmd_list)):\n",
    "#         if bool(re.search(pattern3, cmd_list[entrynr])) == True:\n",
    "#             print(cmd_list[entrynr - 1])\n",
    "            \n",
    "#     return cmd_list"
   ]
  }
 ],
 "metadata": {
  "kernelspec": {
   "display_name": "Python 3 (ipykernel)",
   "language": "python",
   "name": "python3"
  },
  "language_info": {
   "codemirror_mode": {
    "name": "ipython",
    "version": 3
   },
   "file_extension": ".py",
   "mimetype": "text/x-python",
   "name": "python",
   "nbconvert_exporter": "python",
   "pygments_lexer": "ipython3",
   "version": "3.9.7"
  }
 },
 "nbformat": 4,
 "nbformat_minor": 5
}
